{
 "cells": [
  {
   "cell_type": "code",
   "execution_count": 4,
   "id": "293b9fa3",
   "metadata": {},
   "outputs": [],
   "source": [
    "import Bio"
   ]
  },
  {
   "cell_type": "code",
   "execution_count": 6,
   "id": "b9fffe4a",
   "metadata": {},
   "outputs": [
    {
     "name": "stdout",
     "output_type": "stream",
     "text": [
      "Collecting reportlab\n",
      "  Downloading reportlab-3.6.11-cp39-cp39-macosx_10_9_x86_64.whl (2.4 MB)\n",
      "\u001b[K     |████████████████████████████████| 2.4 MB 203 kB/s eta 0:00:01\n",
      "\u001b[?25hRequirement already satisfied: pillow>=9.0.0 in /Users/wanzi/opt/anaconda3/lib/python3.9/site-packages (from reportlab) (9.0.1)\n",
      "Installing collected packages: reportlab\n",
      "Successfully installed reportlab-3.6.11\n",
      "Note: you may need to restart the kernel to use updated packages.\n"
     ]
    }
   ],
   "source": [
    "pip install reportlab"
   ]
  },
  {
   "cell_type": "code",
   "execution_count": 19,
   "id": "565cd1d5",
   "metadata": {},
   "outputs": [],
   "source": [
    "# Import Libraries\n",
    "from reportlab.lib import colors\n",
    "from reportlab.lib.units import cm\n",
    "from Bio.Graphics import GenomeDiagram\n",
    "from Bio import SeqIO\n",
    "from Bio.SeqFeature import SeqFeature, FeatureLocation"
   ]
  },
  {
   "cell_type": "code",
   "execution_count": 44,
   "id": "610468de",
   "metadata": {},
   "outputs": [
    {
     "name": "stdout",
     "output_type": "stream",
     "text": [
      "['NC_005816']\n"
     ]
    }
   ],
   "source": [
    "from Bio import GenBank\n",
    "with open(\"NC_005816_sequence.gb\") as handle:\n",
    "    for record in GenBank.parse(handle):\n",
    "        print(record.accession)"
   ]
  },
  {
   "cell_type": "code",
   "execution_count": 45,
   "id": "8b52de89",
   "metadata": {},
   "outputs": [],
   "source": [
    "from reportlab.lib import colors\n",
    "from reportlab.lib.units import cm\n",
    "from Bio.Graphics import GenomeDiagram\n",
    "from Bio import SeqIO\n",
    "from Bio.SeqFeature import SeqFeature, FeatureLocation\n",
    "\n",
    "record = SeqIO.read(\"NC_005816_sequence.gb\", \"genbank\")\n",
    "\n",
    "gd_diagram = GenomeDiagram.Diagram(record.id)\n",
    "gd_track_for_features = gd_diagram.new_track(1, name=\"Annotated Features\")\n",
    "gd_feature_set = gd_track_for_features.new_set()\n",
    "\n",
    "for feature in record.features:\n",
    "    if feature.type != \"gene\":\n",
    "        # Exclude this feature\n",
    "        continue\n",
    "    if len(gd_feature_set) % 2 == 0:\n",
    "        color = colors.blue\n",
    "    else:\n",
    "        color = colors.lightblue\n",
    "    gd_feature_set.add_feature(\n",
    "        feature, sigil=\"ARROW\", color=color, label=True, label_size=14, label_angle=0\n",
    "    )\n",
    "\n",
    "# I want to include some strandless features, so for an example\n",
    "# will use EcoRI recognition sites etc.\n",
    "for site, name, color in [\n",
    "    (\"GAATTC\", \"EcoRI\", colors.green),\n",
    "    (\"CCCGGG\", \"SmaI\", colors.orange),\n",
    "    (\"AAGCTT\", \"HindIII\", colors.red),\n",
    "    (\"GGATCC\", \"BamHI\", colors.purple),\n",
    "]:\n",
    "    index = 0\n",
    "    while True:\n",
    "        index = record.seq.find(site, start=index)\n",
    "        if index == -1:\n",
    "            break\n",
    "        feature = SeqFeature(FeatureLocation(index, index + len(site)))\n",
    "        gd_feature_set.add_feature(\n",
    "            feature,\n",
    "            color=color,\n",
    "            name=name,\n",
    "            label=True,\n",
    "            label_size=10,\n",
    "            label_color=color,\n",
    "        )\n",
    "        index += len(site)\n",
    "\n",
    "gd_diagram.draw(format=\"linear\", pagesize=\"A4\", fragments=4, start=0, end=len(record))\n",
    "gd_diagram.write(\"plasmid_linear.pdf\", \"PDF\")\n",
    "gd_diagram.write(\"plasmid_linear.eps\", \"EPS\")\n",
    "gd_diagram.write(\"plasmid_linear.svg\", \"SVG\")\n",
    "\n",
    "gd_diagram.draw(\n",
    "    format=\"circular\",\n",
    "    circular=True,\n",
    "    pagesize=(20 * cm, 20 * cm),\n",
    "    start=0,\n",
    "    end=len(record),\n",
    "    circle_core=0.5,\n",
    ")\n",
    "gd_diagram.write(\"plasmid_circular.pdf\", \"PDF\")\n",
    "gd_diagram.write(\"plasmid_circular.eps\", \"EPS\")\n",
    "gd_diagram.write(\"plasmid_circular.svg\", \"SVG\")"
   ]
  },
  {
   "cell_type": "code",
   "execution_count": null,
   "id": "13de53c5",
   "metadata": {},
   "outputs": [],
   "source": []
  }
 ],
 "metadata": {
  "kernelspec": {
   "display_name": "Python 3 (ipykernel)",
   "language": "python",
   "name": "python3"
  },
  "language_info": {
   "codemirror_mode": {
    "name": "ipython",
    "version": 3
   },
   "file_extension": ".py",
   "mimetype": "text/x-python",
   "name": "python",
   "nbconvert_exporter": "python",
   "pygments_lexer": "ipython3",
   "version": "3.9.12"
  }
 },
 "nbformat": 4,
 "nbformat_minor": 5
}
