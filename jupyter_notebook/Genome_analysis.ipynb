{
 "cells": [
  {
   "cell_type": "code",
   "execution_count": 197,
   "id": "c27104e0",
   "metadata": {},
   "outputs": [],
   "source": [
    "# Retrieving sequences from NCBI\n",
    "# We choose Escherichia coli JE86-ST05 DNA, complete genome\n",
    "# The sequence could be found at https://www.ncbi.nlm.nih.gov/nuccore/AP022815\n",
    "from Bio import Entrez"
   ]
  },
  {
   "cell_type": "code",
   "execution_count": 198,
   "id": "3b041171",
   "metadata": {},
   "outputs": [],
   "source": [
    "Entrez.email = \"wanzix@andrew.cmu.edu\""
   ]
  },
  {
   "cell_type": "code",
   "execution_count": 199,
   "id": "9fd66594",
   "metadata": {},
   "outputs": [],
   "source": [
    "handle = Entrez.efetch(db=\"nucleotide\", id=\"AP022815 \", rettype=\"fasta\", retmode=\"text\")"
   ]
  },
  {
   "cell_type": "code",
   "execution_count": 68,
   "id": "5175ef8c",
   "metadata": {},
   "outputs": [],
   "source": [
    "#read sequence data and get basic information\n",
    "from Bio import SeqIO"
   ]
  },
  {
   "cell_type": "code",
   "execution_count": 69,
   "id": "45819334",
   "metadata": {},
   "outputs": [],
   "source": [
    "record = SeqIO.read(handle, \"fasta\")"
   ]
  },
  {
   "cell_type": "code",
   "execution_count": 70,
   "id": "c3838811",
   "metadata": {},
   "outputs": [
    {
     "name": "stdout",
     "output_type": "stream",
     "text": [
      "AP022815.1 Escherichia coli JE86-ST05 DNA, complete genome\n"
     ]
    }
   ],
   "source": [
    "print(record.description)"
   ]
  },
  {
   "cell_type": "code",
   "execution_count": 71,
   "id": "12c9879c",
   "metadata": {},
   "outputs": [
    {
     "name": "stdout",
     "output_type": "stream",
     "text": [
      "AP022815.1\n"
     ]
    }
   ],
   "source": [
    "print(record.id)"
   ]
  },
  {
   "cell_type": "code",
   "execution_count": 72,
   "id": "334a2433",
   "metadata": {},
   "outputs": [
    {
     "name": "stdout",
     "output_type": "stream",
     "text": [
      "AP022815.1\n"
     ]
    }
   ],
   "source": [
    "print(record.name)"
   ]
  },
  {
   "cell_type": "code",
   "execution_count": 73,
   "id": "fdcb0288",
   "metadata": {},
   "outputs": [
    {
     "data": {
      "text/plain": [
       "Seq('AGCTTTTCATTCTGACTGCAATGGGCAATATGTCTCTGTGTGGATTAAAAAAAG...TTC')"
      ]
     },
     "execution_count": 73,
     "metadata": {},
     "output_type": "execute_result"
    }
   ],
   "source": [
    "record.seq"
   ]
  },
  {
   "cell_type": "code",
   "execution_count": 74,
   "id": "30d0acdb",
   "metadata": {},
   "outputs": [
    {
     "data": {
      "text/plain": [
       "5327513"
      ]
     },
     "execution_count": 74,
     "metadata": {},
     "output_type": "execute_result"
    }
   ],
   "source": [
    "len(record.seq)"
   ]
  },
  {
   "cell_type": "code",
   "execution_count": 75,
   "id": "d42e9e64",
   "metadata": {},
   "outputs": [],
   "source": [
    "handle.close()"
   ]
  },
  {
   "cell_type": "code",
   "execution_count": 76,
   "id": "ffd2483a",
   "metadata": {},
   "outputs": [],
   "source": [
    "from Bio.Seq import Seq"
   ]
  },
  {
   "cell_type": "code",
   "execution_count": 110,
   "id": "b90513f0",
   "metadata": {},
   "outputs": [],
   "source": [
    "#since the genome sequence is very large, we do a modification for current sequence\n",
    "seq = record.seq[:1000]"
   ]
  },
  {
   "cell_type": "code",
   "execution_count": 111,
   "id": "36a30e69",
   "metadata": {},
   "outputs": [
    {
     "name": "stdout",
     "output_type": "stream",
     "text": [
      "1000\n"
     ]
    }
   ],
   "source": [
    "print(len(seq))"
   ]
  },
  {
   "cell_type": "code",
   "execution_count": 112,
   "id": "069eecf4",
   "metadata": {},
   "outputs": [],
   "source": [
    "import re"
   ]
  },
  {
   "cell_type": "code",
   "execution_count": 113,
   "id": "143ba528",
   "metadata": {},
   "outputs": [],
   "source": [
    "pattern = re.compile(r'(?=(ATG(?:...)*?)(?=TAG|TGA|TAA))')"
   ]
  },
  {
   "cell_type": "code",
   "execution_count": 115,
   "id": "49ba2408",
   "metadata": {},
   "outputs": [],
   "source": [
    "#reverse complement\n",
    "revcompseq = seq.reverse_complement()"
   ]
  },
  {
   "cell_type": "code",
   "execution_count": 116,
   "id": "d5dda9df",
   "metadata": {},
   "outputs": [],
   "source": [
    "#find sequences with number of codons larger than 50\n",
    "open_read_frame = []\n",
    "l1 = len(pattern.findall(str(seq)))\n",
    "l2 = len(pattern.findall(str(revcompseq)))"
   ]
  },
  {
   "cell_type": "code",
   "execution_count": 119,
   "id": "dd54962f",
   "metadata": {},
   "outputs": [],
   "source": [
    "#forward search\n",
    "for i in range(l1):\n",
    "    if len(pattern.findall(str(seq))[i]) > 50:\n",
    "        open_read_frame.append(pattern.findall(str(seq))[i])"
   ]
  },
  {
   "cell_type": "code",
   "execution_count": 121,
   "id": "e882595c",
   "metadata": {},
   "outputs": [],
   "source": [
    "#backward search\n",
    "for i in range(l2):\n",
    "    if len(pattern.findall(str(revcompseq))[i]) > 50:\n",
    "        open_read_frame.append(pattern.findall(str(revcompseq))[i])"
   ]
  },
  {
   "cell_type": "code",
   "execution_count": 122,
   "id": "ef5fe0c8",
   "metadata": {},
   "outputs": [
    {
     "name": "stdout",
     "output_type": "stream",
     "text": [
      "['ATGGGCAATATGTCTCTGTGTGGATTAAAAAAAGAGTCTCTGACAGCAGCTTCTGAACTGGTTACCTGCCGTGAG', 'ATGTCTCTGTGTGGATTAAAAAAAGAGTCTCTGACAGCAGCTTCTGAACTGGTTACCTGCCGTGAG', 'ATGAAACGCATTAGCACCACCATTACCACCACCATCACCATTACCACAGGTAACGGTGCGGGC']\n"
     ]
    }
   ],
   "source": [
    "print (open_read_frame[:3])"
   ]
  },
  {
   "cell_type": "code",
   "execution_count": 126,
   "id": "8f8d616b",
   "metadata": {},
   "outputs": [],
   "source": [
    "import csv"
   ]
  },
  {
   "cell_type": "code",
   "execution_count": 127,
   "id": "0ffd688e",
   "metadata": {},
   "outputs": [],
   "source": [
    "#Translate the potential open reading frames into protein sequences.\n",
    "#obtain the complement or reverse complement of a Seq object using its built-in methods\n",
    "#write into a new csv file \n",
    "table = 1\n",
    "max_pro_len = 1000\n",
    "\n",
    "f = open('protein_translation.csv','w')\n",
    "header = ['sequence','length','strand','frame']\n",
    "writer = csv.writer(f)\n",
    "writer.writerow(header)\n",
    "\n",
    "protein_list = []\n",
    "count = 0\n",
    "for strand, nuc in [(+1, seq), (-1, seq.reverse_complement())]:\n",
    "    for frame in range(3):\n",
    "        for pro in nuc[frame:].translate(table).split(\"*\"):\n",
    "             if len(pro) < max_pro_len:\n",
    "                count += 1\n",
    "                protein_list.append(pro)\n",
    "                data = [str(pro[:30])+'...'+str(pro[-3:]),len(pro),strand,frame]               \n",
    "                writer.writerow(data)\n",
    "\n",
    "f.close()"
   ]
  },
  {
   "cell_type": "code",
   "execution_count": 129,
   "id": "a84ea0bb",
   "metadata": {},
   "outputs": [
    {
     "name": "stdout",
     "output_type": "stream",
     "text": [
      "sequence,length,strand,frame\n",
      "\n",
      "SFSF...FSF,4,1,0\n",
      "\n",
      "LQWAICLCVD...CVD,10,1,0\n",
      "\n",
      "KKSL...KSL,4,1,0\n",
      "\n",
      "QQLLNWLPAVSKLKFY...KFY,16,1,0\n",
      "\n",
      "LRSLNTLTNIGIAHRQIKITEYTTSMKRIS...GAG,46,1,0\n",
      "\n",
      "RVQETQKKART...ART,11,1,0\n",
      "\n"
     ]
    }
   ],
   "source": [
    "with open('protein_translation.csv','r') as f:\n",
    "    #create interator\n",
    "    for i , line in enumerate(f):\n",
    "        #print each line\n",
    "        print(line)\n",
    "        if i > 5:\n",
    "            break"
   ]
  },
  {
   "cell_type": "code",
   "execution_count": 56,
   "id": "34acafb8",
   "metadata": {},
   "outputs": [],
   "source": [
    "import pandas as pd"
   ]
  },
  {
   "cell_type": "code",
   "execution_count": 171,
   "id": "1ceff873",
   "metadata": {},
   "outputs": [
    {
     "name": "stdout",
     "output_type": "stream",
     "text": [
      "                                sequence  length  strand  frame\n",
      "0                             SFSF...FSF       4       1      0\n",
      "1                       LQWAICLCVD...CVD      10       1      0\n",
      "2                             KKSL...KSL       4       1      0\n",
      "3                 QQLLNWLPAVSKLKFY...KFY      16       1      0\n",
      "4   LRSLNTLTNIGIAHRQIKITEYTTSMKRIS...GAG      46       1      0\n",
      "..                                   ...     ...     ...    ...\n",
      "74          SAGIRLAAIRRVDSAISTVDSR...DSR      22      -1      2\n",
      "75                CPTASSFSTGSITVTL...VTL      16      -1      2\n",
      "76  PRASNTPAIMAIDIFSPRQISAALMLSGHC...LSQ     217      -1      2\n",
      "77            NFNLLTAGNQFRSCCQRLFF...LFF      20      -1      2\n",
      "78                  STQRHIAHCSQNEK...NEK      14      -1      2\n",
      "\n",
      "[77 rows x 4 columns]\n"
     ]
    }
   ],
   "source": [
    "df = pd.read_csv('protein_translation.csv')\n",
    "# We have to clean the data, removing those whose length is equal to 0 for further calculation.\n",
    "for x in df.index:\n",
    "    if df.loc[x,\"length\"] == 0:\n",
    "        df.drop(x,inplace = True)\n",
    "print(df)"
   ]
  },
  {
   "cell_type": "code",
   "execution_count": 172,
   "id": "45b7e1b1",
   "metadata": {},
   "outputs": [],
   "source": [
    "#Now we want to run some protein analysis and store it in the file.\n",
    "from Bio.SeqUtils.ProtParam import ProteinAnalysis"
   ]
  },
  {
   "cell_type": "code",
   "execution_count": 191,
   "id": "5c16a254",
   "metadata": {},
   "outputs": [],
   "source": [
    "#first we creat lists as new columns in the csv file\n",
    "#We calculate the molecular weight of each protein, the GRAVY(grand average of hydropathy) value of each protein \n",
    "#(this represents the property of hydrophobicity),number of each type of amino acid and their composition in each protein.\n",
    "#We can also easily compute the basic information about secondary structure of each protein including beta sheets,\n",
    "#alpha helixes, and turns.\n",
    "molecular_weight = []\n",
    "gravy = []\n",
    "AA_count = []\n",
    "AA_percent = []\n",
    "Secondary_structure = []"
   ]
  },
  {
   "cell_type": "code",
   "execution_count": 192,
   "id": "5d31a527",
   "metadata": {},
   "outputs": [],
   "source": [
    "for pro in protein_list:\n",
    "    if len(str(pro)) == 0:\n",
    "        continue\n",
    "    #get the sequence\n",
    "    analyzed_seq = ProteinAnalysis(str(pro))\n",
    "    #compute molecular weight of each protein\n",
    "    molecular_weight.append(round(analyzed_seq.molecular_weight(),2))\n",
    "    #compute the gravy value of each protein\n",
    "    gravy.append(round(analyzed_seq.gravy(),2))\n",
    "    #compute number of each type of amino acid of each protein\n",
    "    AA_count.append(analyzed_seq.count_amino_acids())\n",
    "    #compute composition of each type of amino acid in each protein\n",
    "    AA_percent.append(analyzed_seq.get_amino_acids_percent())\n",
    "    #compute the fraction of amino acids in secondary structure\n",
    "    Secondary_structure.append(analyzed_seq.secondary_structure_fraction())"
   ]
  },
  {
   "cell_type": "code",
   "execution_count": 193,
   "id": "17ea2fe2",
   "metadata": {},
   "outputs": [],
   "source": [
    "#add new column to existing dataframe in pandas\n",
    "df['molecular_weight'] = molecular_weight\n",
    "df['gravy'] = gravy\n",
    "df['AA_count'] = AA_count\n",
    "df['AA_percent'] = AA_percent\n",
    "df['Secondary_structure'] = Secondary_structure"
   ]
  },
  {
   "cell_type": "code",
   "execution_count": 195,
   "id": "223bead5",
   "metadata": {},
   "outputs": [
    {
     "name": "stdout",
     "output_type": "stream",
     "text": [
      "                                sequence  length  strand  frame  \\\n",
      "0                             SFSF...FSF       4       1      0   \n",
      "1                       LQWAICLCVD...CVD      10       1      0   \n",
      "2                             KKSL...KSL       4       1      0   \n",
      "3                 QQLLNWLPAVSKLKFY...KFY      16       1      0   \n",
      "4   LRSLNTLTNIGIAHRQIKITEYTTSMKRIS...GAG      46       1      0   \n",
      "..                                   ...     ...     ...    ...   \n",
      "74          SAGIRLAAIRRVDSAISTVDSR...DSR      22      -1      2   \n",
      "75                CPTASSFSTGSITVTL...VTL      16      -1      2   \n",
      "76  PRASNTPAIMAIDIFSPRQISAALMLSGHC...LSQ     217      -1      2   \n",
      "77            NFNLLTAGNQFRSCCQRLFF...LFF      20      -1      2   \n",
      "78                  STQRHIAHCSQNEK...NEK      14      -1      2   \n",
      "\n",
      "    molecular_weight  gravy  \\\n",
      "0             486.52   1.00   \n",
      "1            1163.41   1.52   \n",
      "2             474.59  -1.20   \n",
      "3            1948.31   0.07   \n",
      "4            4964.65  -0.08   \n",
      "..               ...    ...   \n",
      "74           2314.60   0.16   \n",
      "75           1571.75   0.72   \n",
      "76          23710.31   0.60   \n",
      "77           2379.72   0.05   \n",
      "78           1638.76  -1.59   \n",
      "\n",
      "                                             AA_count  \\\n",
      "0   {'A': 0, 'C': 0, 'D': 0, 'E': 0, 'F': 2, 'G': ...   \n",
      "1   {'A': 1, 'C': 2, 'D': 1, 'E': 0, 'F': 0, 'G': ...   \n",
      "2   {'A': 0, 'C': 0, 'D': 0, 'E': 0, 'F': 0, 'G': ...   \n",
      "3   {'A': 1, 'C': 0, 'D': 0, 'E': 0, 'F': 1, 'G': ...   \n",
      "4   {'A': 2, 'C': 0, 'D': 0, 'E': 1, 'F': 0, 'G': ...   \n",
      "..                                                ...   \n",
      "74  {'A': 4, 'C': 0, 'D': 2, 'E': 0, 'F': 0, 'G': ...   \n",
      "75  {'A': 1, 'C': 1, 'D': 0, 'E': 0, 'F': 1, 'G': ...   \n",
      "76  {'A': 24, 'C': 11, 'D': 4, 'E': 2, 'F': 11, 'G...   \n",
      "77  {'A': 1, 'C': 2, 'D': 0, 'E': 0, 'F': 4, 'G': ...   \n",
      "78  {'A': 1, 'C': 1, 'D': 0, 'E': 1, 'F': 0, 'G': ...   \n",
      "\n",
      "                                           AA_percent  \\\n",
      "0   {'A': 0.0, 'C': 0.0, 'D': 0.0, 'E': 0.0, 'F': ...   \n",
      "1   {'A': 0.1, 'C': 0.2, 'D': 0.1, 'E': 0.0, 'F': ...   \n",
      "2   {'A': 0.0, 'C': 0.0, 'D': 0.0, 'E': 0.0, 'F': ...   \n",
      "3   {'A': 0.0625, 'C': 0.0, 'D': 0.0, 'E': 0.0, 'F...   \n",
      "4   {'A': 0.043478260869565216, 'C': 0.0, 'D': 0.0...   \n",
      "..                                                ...   \n",
      "74  {'A': 0.18181818181818182, 'C': 0.0, 'D': 0.09...   \n",
      "75  {'A': 0.0625, 'C': 0.0625, 'D': 0.0, 'E': 0.0,...   \n",
      "76  {'A': 0.11059907834101383, 'C': 0.050691244239...   \n",
      "77  {'A': 0.05, 'C': 0.1, 'D': 0.0, 'E': 0.0, 'F':...   \n",
      "78  {'A': 0.07142857142857142, 'C': 0.071428571428...   \n",
      "\n",
      "                                  Secondary_structure  \n",
      "0                                     (0.5, 0.5, 0.0)  \n",
      "1                     (0.5, 0.0, 0.30000000000000004)  \n",
      "2                                  (0.25, 0.25, 0.25)  \n",
      "3                               (0.5, 0.1875, 0.3125)  \n",
      "4   (0.2608695652173913, 0.2173913043478261, 0.152...  \n",
      "..                                                ...  \n",
      "74  (0.2727272727272727, 0.2272727272727273, 0.227...  \n",
      "75                               (0.25, 0.375, 0.125)  \n",
      "76  (0.33640552995391704, 0.23963133640552997, 0.2...  \n",
      "77                                  (0.35, 0.25, 0.2)  \n",
      "78  (0.07142857142857142, 0.21428571428571427, 0.1...  \n",
      "\n",
      "[77 rows x 9 columns]\n"
     ]
    }
   ],
   "source": [
    "print(df)"
   ]
  },
  {
   "cell_type": "code",
   "execution_count": 196,
   "id": "4744750d",
   "metadata": {},
   "outputs": [],
   "source": [
    "#save the modified content into file\n",
    "df.to_csv('protein_translation.csv',index = False)"
   ]
  },
  {
   "cell_type": "code",
   "execution_count": 200,
   "id": "b407940c",
   "metadata": {},
   "outputs": [],
   "source": [
    "#blast 5 protein coding sequences at NCBI and return most similar hits.\n",
    "import Bio"
   ]
  },
  {
   "cell_type": "code",
   "execution_count": 205,
   "id": "346b464f",
   "metadata": {},
   "outputs": [],
   "source": [
    "from Bio.Blast import NCBIWWW\n",
    "from Bio.Blast import NCBIXML"
   ]
  },
  {
   "cell_type": "code",
   "execution_count": 206,
   "id": "633673fb",
   "metadata": {},
   "outputs": [],
   "source": [
    "Entrez.email = \"wanzix@andrew.cmu.edu\""
   ]
  },
  {
   "cell_type": "code",
   "execution_count": 207,
   "id": "97de7e25",
   "metadata": {},
   "outputs": [],
   "source": [
    "#select first five protein coding sequences\n",
    "selected_protein_list = protein_list[0:5]"
   ]
  },
  {
   "cell_type": "code",
   "execution_count": 217,
   "id": "634b2d29",
   "metadata": {},
   "outputs": [
    {
     "name": "stdout",
     "output_type": "stream",
     "text": [
      "****Alignment****\n",
      "sequence: gb|EAP3818702.1| thr operon leader peptide [Salmonella enterica] >gb|ECS4318266.1| thr operon leader peptide [Salmonella enterica subsp. enterica serovar Typhimurium var. 5-] >tpg|HAB6922902.1| thr operon leader peptide [Salmonella enterica subsp. enterica serovar Typhi str. CT18] >gb|EAV2688376.1| thr operon leader peptide [Salmonella enterica] >tpg|HAD4260575.1| thr operon leader peptide [Salmonella enterica subsp. enterica serovar Typhi str. CT18]\n",
      "length: 23\n",
      "score: 79.0\n"
     ]
    },
    {
     "ename": "KeyboardInterrupt",
     "evalue": "",
     "output_type": "error",
     "traceback": [
      "\u001b[0;31m---------------------------------------------------------------------------\u001b[0m",
      "\u001b[0;31mKeyboardInterrupt\u001b[0m                         Traceback (most recent call last)",
      "Input \u001b[0;32mIn [217]\u001b[0m, in \u001b[0;36m<cell line: 2>\u001b[0;34m()\u001b[0m\n\u001b[1;32m      2\u001b[0m \u001b[38;5;28;01mfor\u001b[39;00m i \u001b[38;5;129;01min\u001b[39;00m selected_protein_list:\n\u001b[1;32m      3\u001b[0m     \u001b[38;5;66;03m#store each blast result into a dictionary\u001b[39;00m\n\u001b[1;32m      4\u001b[0m     Blast_results[i] \u001b[38;5;241m=\u001b[39m {}\n\u001b[0;32m----> 5\u001b[0m     results \u001b[38;5;241m=\u001b[39m \u001b[43mNCBIWWW\u001b[49m\u001b[38;5;241;43m.\u001b[39;49m\u001b[43mqblast\u001b[49m\u001b[43m(\u001b[49m\u001b[43mprogram\u001b[49m\u001b[43m \u001b[49m\u001b[38;5;241;43m=\u001b[39;49m\u001b[43m \u001b[49m\u001b[38;5;124;43m\"\u001b[39;49m\u001b[38;5;124;43mblastp\u001b[39;49m\u001b[38;5;124;43m\"\u001b[39;49m\u001b[43m,\u001b[49m\u001b[43m \u001b[49m\u001b[43mdatabase\u001b[49m\u001b[43m \u001b[49m\u001b[38;5;241;43m=\u001b[39;49m\u001b[43m \u001b[49m\u001b[38;5;124;43m\"\u001b[39;49m\u001b[38;5;124;43mnr\u001b[39;49m\u001b[38;5;124;43m\"\u001b[39;49m\u001b[43m,\u001b[49m\u001b[43m \u001b[49m\u001b[43msequence\u001b[49m\u001b[43m \u001b[49m\u001b[38;5;241;43m=\u001b[39;49m\u001b[43m \u001b[49m\u001b[43mi\u001b[49m\u001b[43m,\u001b[49m\u001b[43m \u001b[49m\u001b[43mformat_type\u001b[49m\u001b[38;5;241;43m=\u001b[39;49m\u001b[43m \u001b[49m\u001b[38;5;124;43m\"\u001b[39;49m\u001b[38;5;124;43mXML\u001b[39;49m\u001b[38;5;124;43m\"\u001b[39;49m\u001b[43m)\u001b[49m\n\u001b[1;32m      6\u001b[0m     records \u001b[38;5;241m=\u001b[39m NCBIXML\u001b[38;5;241m.\u001b[39mparse(results)\n\u001b[1;32m      7\u001b[0m     \u001b[38;5;28;01mfor\u001b[39;00m r \u001b[38;5;129;01min\u001b[39;00m records:\n",
      "File \u001b[0;32m~/opt/anaconda3/lib/python3.9/site-packages/Bio/Blast/NCBIWWW.py:246\u001b[0m, in \u001b[0;36mqblast\u001b[0;34m(program, database, sequence, url_base, auto_format, composition_based_statistics, db_genetic_code, endpoints, entrez_query, expect, filter, gapcosts, genetic_code, hitlist_size, i_thresh, layout, lcase_mask, matrix_name, nucl_penalty, nucl_reward, other_advanced, perc_ident, phi_pattern, query_file, query_believe_defline, query_from, query_to, searchsp_eff, service, threshold, ungapped_alignment, word_size, short_query, alignments, alignment_view, descriptions, entrez_links_new_window, expect_low, expect_high, format_entrez_query, format_object, format_type, ncbi_gi, results_file, show_overview, megablast, template_type, template_length)\u001b[0m\n\u001b[1;32m    244\u001b[0m wait \u001b[38;5;241m=\u001b[39m qblast\u001b[38;5;241m.\u001b[39m_previous \u001b[38;5;241m+\u001b[39m delay \u001b[38;5;241m-\u001b[39m current\n\u001b[1;32m    245\u001b[0m \u001b[38;5;28;01mif\u001b[39;00m wait \u001b[38;5;241m>\u001b[39m \u001b[38;5;241m0\u001b[39m:\n\u001b[0;32m--> 246\u001b[0m     \u001b[43mtime\u001b[49m\u001b[38;5;241;43m.\u001b[39;49m\u001b[43msleep\u001b[49m\u001b[43m(\u001b[49m\u001b[43mwait\u001b[49m\u001b[43m)\u001b[49m\n\u001b[1;32m    247\u001b[0m     qblast\u001b[38;5;241m.\u001b[39m_previous \u001b[38;5;241m=\u001b[39m current \u001b[38;5;241m+\u001b[39m wait\n\u001b[1;32m    248\u001b[0m \u001b[38;5;28;01melse\u001b[39;00m:\n",
      "\u001b[0;31mKeyboardInterrupt\u001b[0m: "
     ]
    }
   ],
   "source": [
    "Blast_results = {}\n",
    "for i in selected_protein_list:\n",
    "    #store each blast result into a dictionary\n",
    "    Blast_results[i] = {}\n",
    "    results = NCBIWWW.qblast(program = \"blastp\", database = \"nr\", sequence = i, format_type= \"XML\")\n",
    "    records = NCBIXML.parse(results)\n",
    "    for r in records:\n",
    "        for alignment in r.alignments:\n",
    "            for hsp in alignment.hsps:\n",
    "                matched_seq = hsp.sbjct\n",
    "                Blast_results[i][\"score\"] = hsp.score\n",
    "                #compare the scores in blast results, select the largest one(most similar hit)\n",
    "                if matched_seq not in Blast_results[i].keys() and hsp.score >= Blast_results[i][\"score\"]:\n",
    "                    Blast_results[i][\"matched_sequence\"] = matched_seq\n",
    "                    Blast_results[i][\"score\"] = hsp.score\n",
    "                    Blast_results[i][\"description\"] = alignment.title\n",
    "                    Blast_results[i][\"length:\"] = alignment.length\n",
    "    #print most similar result for each protein sequence\n",
    "    print(\"****Alignment****\")\n",
    "    print(\"sequence:\", alignment.title)\n",
    "    print(\"length:\", alignment.length)\n",
    "    print(\"score:\", hsp.score)"
   ]
  },
  {
   "cell_type": "code",
   "execution_count": null,
   "id": "9e1726b8",
   "metadata": {},
   "outputs": [],
   "source": []
  }
 ],
 "metadata": {
  "kernelspec": {
   "display_name": "Python 3 (ipykernel)",
   "language": "python",
   "name": "python3"
  },
  "language_info": {
   "codemirror_mode": {
    "name": "ipython",
    "version": 3
   },
   "file_extension": ".py",
   "mimetype": "text/x-python",
   "name": "python",
   "nbconvert_exporter": "python",
   "pygments_lexer": "ipython3",
   "version": "3.9.12"
  }
 },
 "nbformat": 4,
 "nbformat_minor": 5
}
